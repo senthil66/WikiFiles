{
  "nbformat": 4,
  "nbformat_minor": 0,
  "metadata": {
    "colab": {
      "name": "Copy of Untitled2.ipynb",
      "provenance": [],
      "authorship_tag": "ABX9TyOOIdLFHvo60L9g6uAkB3cz",
      "include_colab_link": true
    },
    "kernelspec": {
      "name": "python3",
      "display_name": "Python 3"
    },
    "language_info": {
      "name": "python"
    }
  },
  "cells": [
    {
      "cell_type": "markdown",
      "metadata": {
        "id": "view-in-github",
        "colab_type": "text"
      },
      "source": [
        "<a href=\"https://colab.research.google.com/github/senthil66/WikiFiles/blob/main/Copy_of_Untitled2.ipynb\" target=\"_parent\"><img src=\"https://colab.research.google.com/assets/colab-badge.svg\" alt=\"Open In Colab\"/></a>"
      ]
    },
    {
      "cell_type": "code",
      "execution_count": 5,
      "metadata": {
        "id": "l5XzfcA0ure7"
      },
      "outputs": [],
      "source": [
        "import math\n",
        "import bs4 as bs\n",
        "import urllib.request\n",
        "import re\n",
        "import nltk\n",
        "from textblob import TextBlob\n",
        "from nltk.corpus import stopwords\n",
        "from nltk.tokenize import word_tokenize\n",
        "from nltk import tokenize\n",
        "from operator import itemgetter"
      ]
    },
    {
      "cell_type": "code",
      "source": [
        "nltk.download('stopwords')"
      ],
      "metadata": {
        "colab": {
          "base_uri": "https://localhost:8080/"
        },
        "id": "yIf7RBDZzWZx",
        "outputId": "84613d3d-d467-4f19-865b-880b465cee96"
      },
      "execution_count": 6,
      "outputs": [
        {
          "output_type": "stream",
          "name": "stdout",
          "text": [
            "[nltk_data] Downloading package stopwords to /root/nltk_data...\n",
            "[nltk_data]   Unzipping corpora/stopwords.zip.\n"
          ]
        },
        {
          "output_type": "execute_result",
          "data": {
            "text/plain": [
              "True"
            ]
          },
          "metadata": {},
          "execution_count": 6
        }
      ]
    },
    {
      "cell_type": "code",
      "source": [
        ""
      ],
      "metadata": {
        "id": "1PbMG0DUzgr5"
      },
      "execution_count": null,
      "outputs": []
    },
    {
      "cell_type": "code",
      "source": [
        "import io\n",
        "from nltk.corpus import stopwords\n",
        "from nltk.tokenize import word_tokenize\n",
        " \n",
        "# word_tokenize accepts\n",
        "# a string as an input, not a file.\n",
        "stop_words = set(stopwords.words('english'))"
      ],
      "metadata": {
        "id": "36mP_opuxxpy"
      },
      "execution_count": 7,
      "outputs": []
    },
    {
      "cell_type": "code",
      "source": [
        "search_keywords=[]\n",
        "scrapped_data = urllib.request.urlopen('https://en.wikipedia.org/wiki/Sachin_Tendulkar')\n",
        "article = scrapped_data .read()\n",
        "\n",
        "parsed_article = bs.BeautifulSoup(article,'lxml')\n",
        "\n",
        "paragraphs = parsed_article.find_all('p')\n",
        "\n",
        "article_text = \"\"\n",
        "\n",
        "for p in paragraphs:\n",
        "    article_text += p.text\n",
        "\n",
        "print(article_text)   "
      ],
      "metadata": {
        "colab": {
          "base_uri": "https://localhost:8080/"
        },
        "id": "y5R1pJ-ezpqJ",
        "outputId": "416d9c1a-6820-4246-f3ee-cb66ccaf19f9"
      },
      "execution_count": 8,
      "outputs": [
        {
          "output_type": "stream",
          "name": "stdout",
          "text": [
            "\n",
            "Sachin Ramesh Tendulkar (/ˌsʌtʃɪn tɛnˈduːlkər/ (listen); pronounced [sət͡ʃin t̪eːɳɖulkəɾ]; born 24 April 1973) is a former international cricketer of India who served as captain of the Indian national team. He is regarded as one of the greatest batsmen in the history of cricket.[6] He is the highest run scorer of all time in international cricket, and the only player to have scored one hundred international centuries, the first batsman to score a double century in a One Day International (ODI), the holder of the record for the most runs in both Test and ODI cricket, and the only player to complete more than 30,000 runs in international cricket.[7] In 2013, he was the only Indian cricketer included in an all-time Test World XI named to mark the 150th anniversary of Wisden Cricketers' Almanack.[8][9][10] He is affectionately known as \"Little Master\" or \"Master Blaster\".[11][12][13][14]\n",
            "Tendulkar took up cricket at the age of eleven, made his Test debut on 15 November 1989 against Pakistan in Karachi at the age of sixteen, and went on to represent Mumbai domestically and India internationally for close to twenty-four years. In 2002, halfway through his career, Wisden Cricketers' Almanack ranked him the second-greatest Test batsman of all time, behind Don Bradman, and the second-greatest ODI batsman of all time, behind Viv Richards.[15] Later in his career, Tendulkar was a part of the Indian team that won the 2011 World Cup, his first win in six World Cup appearances for India.[16] He had previously been named \"Player of the Tournament\" at the 2003 edition of the tournament, held in South Africa.\n",
            "Tendulkar received the Arjuna Award in 1994 for his outstanding sporting achievement, the Khel Ratna award in 1997, India's highest sporting honour, and the Padma Shri and Padma Vibhushan awards in 1999 and 2008, respectively, India's fourth- and second-highest civilian awards.[17] After a few hours of his final match on 16 November 2013, the Prime Minister's Office announced the decision to award him the Bharat Ratna, India's highest civilian award.[18][19] He is the youngest recipient to date and the first ever sportsperson to receive the award.[20][21] He also won the 2010 Sir Garfield Sobers Trophy for cricketer of the year at the ICC awards.[22] In 2012, Tendulkar was nominated to the Rajya Sabha, the upper house of the Parliament of India.[23] He was also the first sportsperson and the first person without an aviation background to be awarded the honorary rank of group captain by the Indian Air Force.[24] In 2012, he was named an Honorary Member of the Order of Australia.[25][26]\n",
            "In 2010, Time magazine included Sachin in its annual Time 100 list as one of the \"Most Influential People in the World\".[27]\n",
            "In December 2012, Tendulkar announced his retirement from ODIs.[28] He retired from Twenty20 cricket in October 2013[29] and subsequently retired from all forms of cricket on 16 November 2013 after playing his 200th Test match, against the West Indies in Mumbai's Wankhede Stadium.[30] Tendulkar played 664 international cricket matches in total, scoring 34,357 runs.[7]\n",
            "In 2019, Tendulkar was inducted into the ICC Cricket Hall of Fame.[31]\n",
            "Tendulkar was born at Nirmal Nursing Home in Dadar, Bombay on 24 April 1973\n",
            "[32]\n",
            "[1][33][34] to a Rajapur Saraswat Brahmin maharastrian famiy[35][36][37] His father, Ramesh Tendulkar, was a well-known Marathi novelist & poet and his mother, Rajni, worked in the insurance industry.[38] Ramesh named Tendulkar after his favourite music director, Sachin Dev Burman. Tendulkar has three elder siblings: two half-brothers Nitin and Ajit, and a half-sister Savita. They were Ramesh's children by his first wife, who died after the birth of her third child.[39][40]\n",
            "Tendulkar spent his formative years in the Sahitya Sahawas Cooperative Housing Society in Bandra (East). As a young boy, Tendulkar was considered a bully, and often picked up fights with new children in his school.[41]\n",
            "He also showed interest in Tennis, idolising John McEnroe. When he was 7 to 8 years, he was a fan of McEnroe and his love for Tennis was on equal level of Cricket, as per him it was time whether I play Tennis or play cricket. That time he had grown long hairs like McEnroe and use to wear wrist bands and head bands like his Tennis hero and use to carry Tennis racket wherever go.[42][43][44]\n",
            "To help curb his mischievous, bullying tendencies, Ajit Tendulkar, his elder brother introduced Sachin to cricket in 1984. He introduced him to Ramakant Achrekar, a famous cricket coach and a club cricketer of repute, at Shivaji Park, Dadar. In the first meeting, the Sachin did not able to play his best game. Ajit told Achrekar that he was feeling self-conscious due to the coach observing him, and was not displaying his natural game. Ajit requested the coach to give him another chance at playing, but watch while hiding behind a tree. This time, Sachin, apparently unobserved, played much better and was accepted at Achrekar's academy.[45][better source needed] Ajit Tendulkar also had experience of playing cricket in Bombay's Kanga League.[46]\n",
            "Achrekar was impressed with Tendulkar's talent and advised him to shift his schooling to Sharadashram Vidyamandir (English) High School,[1] a school at Dadar which had a dominant cricket team and had produced many notable cricketers. Prior to this, Tendulkar had attended the Indian Education Society's New English School in Bandra (East).[47] He was also coached under the guidance of Achrekar at Shivaji Park in the mornings and evenings.[48] Tendulkar would practice for hours on end in the nets. If he became exhausted, Achrekar would put a one-rupee coin on the top of the stumps, and the bowler who dismissed Tendulkar would get the coin. If Tendulkar passed the whole session without getting dismissed, the coach would give him the coin. Tendulkar now considers the 13 coins he won then as some of his most prized possessions.[49] He moved in with his aunt and uncle, who lived near Shivaji Park, during this period, due to his hectic schedule.[47]\n",
            "Meanwhile, at school, he developed a reputation as a child prodigy. He had become a common conversation point in local cricketing circles, where there were suggestions already that he would become one of the greats. Sachin consistently featured in the school team in the Matunga Gujarati Seva Mandal (MGSM) Shield.[50] Besides school cricket, he also played club cricket, initially representing John Bright Cricket Club in Bombay's premier club cricket tournament, the Kanga League,[47] and later went on to play for the Cricket Club of India (CCI).[51] In 1987, at the age of 14, he attended the MRF Pace Foundation in Madras (now Chennai) to train as a fast bowler, but the Australian fast bowler Dennis Lillee, who took a world record 355 Test wickets, was unimpressed, suggesting that Tendulkar focus on his batting instead.[52] On 20 January 1987, he also turned out as substitute for Imran Khan's side in an exhibition game at Brabourne Stadium in Bombay, to mark the golden jubilee of Cricket Club of India.[53] A couple of months later, former Indian batsman Sunil Gavaskar gave him a pair of his own ultra light pads and consoled him to not get disheartened for not getting the Bombay Cricket Association's \"Best junior cricket award\" (He was 14 years that time). \"It was the greatest source of encouragement for me,\" Tendulkar said nearly 20 years later after surpassing Gavaskar's world record of 34 Test centuries.[54][55] Sachin served as a ball boy in the 1987 Cricket World Cup when India played against England in the semifinal in Bombay.[56][57] In his season[clarification needed] in 1988, Tendulkar scored a century in every innings he played.[citation needed] He was involved in an unbroken 664-run partnership in a Lord Harris Shield inter-school game against St. Xavier's High School in 1988 with his friend and teammate Vinod Kambli, who would also go on to represent India. Tendulkar scored 326 (not out) in this innings and scored over a thousand runs in the tournament.[58] This was a record partnership in any form of cricket until 2006, when it was broken by two under-13 batsmen in a match held at Hyderabad in India.[59]\n",
            "On 14 November 1987, the 14-year-old Tendulkar was selected to represent Bombay in the Ranji Trophy, India's premier domestic First-class cricket tournament, for the 1987–88 season. However, he was not selected for the final eleven in any of the matches, though he was often used as a substitute fielder.[47] He narrowly missed out on playing alongside his idol Gavaskar, who had retired from all forms of cricket after the 1987 Cricket World Cup.[47] A year later, on 11 December 1988, aged 15 years and 232 days, Tendulkar made his debut for Bombay against Gujarat at Wankhede stadium and scored 100 not out in that match, making him the youngest Indian to score a century on debut in first-class cricket.[60] He was selected to play for the team by the then Bombay captain Dilip Vengsarkar after watching him easily playing India's best fast bowler at the time, Kapil Dev, in the Wankhede Stadium's Cricket practice nets,[1] where the Indian team had come to play against the touring New Zealand team. He followed this by scoring a century in his first Deodhar and Duleep Trophies, which are also Indian domestic tournaments.[61]\n",
            "Tendulkar finished the 1988–89 Ranji Trophy season as Bombay's highest run-scorer. He scored 583 runs at an average of 67.77, and was the eighth-highest run-scorer overall.[62] In 1995- 96 Irani trophy he captained Mumbai against Rest of India team.[63] He also made an unbeaten century in the Irani Trophy match against Delhi at the start of the 1989–90 season, playing for the Rest of India.[64] Sachin was picked for a young Indian team to tour England twice, under the Star Cricket Club banner in 1988 and 1989.[65] In the famous 1990–91 Ranji Trophy final, in which Haryana defeated Bombay by two runs after leading in the first innings, Tendulkar's 96 from 75 balls was a key to giving Bombay a chance of victory as it attempted to chase 355 from only 70 overs on the final day.[66]\n",
            "In the final of 1995 Ranji trophy, Tendulkar scored 140 and 139 versus Punjab at Wankhede playing as a captain. Against Haydrabad 53, 128 in 2000, 105, 43 against Bengal in 2007 are the innings he played for Mumbai in the final of Ranji trophy at Wankhede stadium.[63]\n",
            "His first double century (204*) was for Mumbai while playing against the visiting Australian team at the Brabourne Stadium in 1998.[1][67] He is the only player to score a century on debut in all three of his domestic first-class tournaments (the Ranji, Irani, and Duleep Trophies).[68] Another double century was an innings of 233* against Tamil Nadu in the semi-finals of the 2000 Ranji Trophy, which he regards as one of the best innings of his career.[69][70][71]\n",
            "Tendulkar was part of 5 Ranji trophy finals in which Mumbai won 4.[63]\n",
            "In 1992, at the age of 19, Tendulkar became the first overseas-born player to represent Yorkshire, which prior to Tendulkar joining the team, never selected players even from outside Yorkshire.[1][Note 1] Selected for Yorkshire as a replacement for the injured Australian fast bowler Craig McDermott, Tendulkar played 16 first-class matches for the county and scored 1070 runs at an average of 46.52.[72]\n",
            "Raj Singh Dungarpur is credited for the selection of Tendulkar for the Indian tour of Pakistan in late 1989,[73] after one first class season.[74] The Indian selection committee had shown interest in selecting Tendulkar for the tour of the West Indies held earlier that year, but eventually did not select him, as they did not want him to be exposed to the dominant fast bowlers of the West Indies so early in his career. Tendulkar made his Test debut against Pakistan in Karachi in November 1989 aged 16 years and 205 days. He made 15 runs, being bowled by Waqar Younis, who also made his debut in that match, but was noted for how he handled numerous blows to his body at the hands of the Pakistani pace attack.[75] In the fourth and final Test in Sialkot, he was hit on the nose by a bouncer bowled by Younis, but he declined medical assistance and continued to bat even as he gushed blood from it.[76] In a 20-over exhibition game in Peshawar, held in parallel with the bilateral series, Tendulkar made 53 runs off 18 balls, including an over in which he scored 27 runs (6, 4, 0, 6, 6, 6) off leg-spinner Abdul Qadir.[77] This was later called \"one of the best innings I have seen\" by the then Indian captain Krishnamachari Srikkanth.[78] In all, he scored 215 runs at an average of 35.83 in the Test series, and was dismissed without scoring a run in the only One Day International (ODI) he played.[79][80] Thus Sachin Tendulkar became the youngest player to debut for India in Tests at the age of 16 years and 205 days and also the youngest player to debut for India in ODIs at the age of 16 years and 238 days.[81][82]\n",
            "The series was followed by a tour of New Zealand in which he scored 117 runs at an average of 29.25 in Tests including an innings of 88 in the second Test.[83] He was dismissed without scoring in one of the two one-day games he played, and scored 36 in the other.[84] On his next tour, a summer tour to England of 1990, on 14 August, he became the second youngest cricketer to score a Test century as he made 119 not out in the second Test at Old Trafford in Manchester, an innings which contributed to a draw and saved India from certain defeat in the match.[76] Wisden described his innings as \"a disciplined display of immense maturity\" and also wrote:[85]\n",
            "He looked the embodiment of India's famous opener, Gavaskar, and indeed was wearing a pair of his pads. While he displayed a full repertoire of strokes in compiling his maiden Test hundred, most remarkable were his off-side shots from the back foot. Though only 5ft 5in tall, he was still able to control without difficulty short deliveries from the English pacemen.Tendulkar further enhanced his reputation as a future great during the 1991–92 tour of Australia held before the 1992 Cricket World Cup, that included an unbeaten 148 in the third Test at Sydney, making him the youngest batsman to score a century in Australia. He then scored 114 on a fast, bouncing pitch in the final Test at Perth against a pace attack comprising Merv Hughes, Bruce Reid and Craig McDermott. Hughes commented to Allan Border at the time that \"This little prick's going to get more runs than you, AB.\"[86]\n",
            "Tendulkar's performance through the years 1994–1999 coincided with his physical peak, in his early twenties. He opened the batting at Auckland against New Zealand in 1994, making 82 runs off 49 balls.[87] He scored his first ODI century on 9 September 1994 against Australia in Sri Lanka at Colombo.[88][89] It took him 78 ODIs to score his first century.\n",
            "Tendulkar's rise continued when he was the leading run scorer at the 1996 World Cup, scoring two centuries.[90] He was the only Indian batsman to perform well in the semi-final against Sri Lanka. Tendulkar fell amid a batting collapse and the match referee, Clive Lloyd, awarded Sri Lanka the match after the crowd began rioting and throwing litter onto the field.[91]\n",
            "After the World Cup, in the same year against Pakistan at Sharjah, Indian captain Mohammed Azharuddin was going through a lean patch. Tendulkar and Navjot Singh Sidhu both made centuries to set a then record partnership for the second wicket. After getting out, Tendulkar found Azharuddin in two minds about whether he should bat.[citation needed] Tendulkar convinced Azharuddin to bat and Azharuddin subsequently unleashed 24 runs off one over.[92] India went on to win that match. It enabled India to post a score in excess of 300 runs for the first time in an ODI.[93]\n",
            "Desert storm\n",
            "Sachin scored 143 (131) runs in Sharjah against mighty Australian team into the 1998 Coca Cola cup, he smashed 5 sixes, In the inning against Shane Warne, Damien Fleming and Michel Kasprowicz. Per ICC's poll it is the bestest one day inning of him. Sachin's this inning is famous as 'Desert storm', due to this match was interrupted by desert storm. [94]\n",
            "This was the beginning of a period at the top of the batting world, culminating in the Australian tour of India in early 1998, with Tendulkar scoring three consecutive centuries. The focus was on the clash between Tendulkar, the world's most dominating batsman and Shane Warne, the world's leading spinner, both at the peak of their careers, clashing in a Test series.[95] In the lead-up to the series, Tendulkar simulated scenarios in the nets with Laxman Sivaramakrishnan, the former India leg spinner, donning the role of Warne.[96] In their tour opener, Australia faced the then Ranji Champions Mumbai at the Brabourne Stadium in a three-day first class match.[97] Tendulkar made an unbeaten 204 as Shane Warne conceded 111 runs in 16 overs and Australia lost the match within three days.[98][99] He also had a role with the ball in the five-match ODI series in India following the Tests, including a five wicket haul in an ODI in Kochi. Set 310 runs to win, Australia were cruising at 203 for 3 in the 31st over when Tendulkar turned the match for India, taking the wickets of Michael Bevan, Steve Waugh, Darren Lehmann, Tom Moody and Damien Martyn for 32 runs in 10 overs.[100] The Test match success was followed by two consecutive centuries in April 1998 in a Triangular cricket tournament in Sharjah—the first in a must-win game to take India to the finals and then again in the finals, both against Australia. These twin knocks were also known as the Desert Storm innings.[101] Following the series, Warne ruefully joked that he was having nightmares about his Indian nemesis.[102]\n",
            "Tendulkar's contribution in the ICC 1998 quarterfinal at Dhaka paved the way for India's entry into the semifinals, when he took four Australian wickets after scoring 141 runs in 128 balls.[103]\n",
            "The inaugural Asian Test Championship took place in February and March 1999, involving India, Pakistan, and Sri Lanka.[104] In the first match, between India and Pakistan in Eden Gardens, Tendulkar was run out for nine after colliding with Pakistan bowler Shoaib Akhtar. Around 100,000 people came to support India during the initial four days of the tournament, breaking a 63-year-old record for aggregate Test attendance record.[105] The crowd's reaction to Tendulkar's dismissal was to throw objects at Akhtar, and the players were taken off the field. The match resumed after Tendulkar and the president of the ICC appealed to the crowd; however, further rioting meant that the match was finished in front of a crowd of 200 people.[106] Tendulkar scored his 19th Test century in the second Test and the match resulted in a draw with Sri Lanka.[107] India did not progress to the final, which was won by Pakistan, and refused to participate the next time the championship was held due to increasing political tensions between India and Pakistan.[108]\n",
            "In the Test against Pakistan at Chepauk in 1999, the first of a two-Test series, Sachin scored 136 in the fourth innings with India chasing 271 for victory. However, he was out when India needed 17 more runs to win, triggering a batting collapse, and India lost the match by 12 runs.[109] The worst was yet to come as Professor Ramesh Tendulkar, Sachin's father, died in the middle of the 1999 Cricket World Cup. Tendulkar flew back to India to attend the final rituals of his father, missing the match against Zimbabwe.[110] However, he returned to the World Cup scoring a century (140 not out of 101 balls) in his very next match against Kenya in Bristol. He dedicated this century to his father.[111]\n",
            "Tendulkar's two tenures as captain of the Indian cricket team were not very successful. When Tendulkar took over as captain in 1996, it was with huge hopes and expectations. However, by 1997 the team was performing poorly. Azharuddin was credited with saying \"Nahin jeetega! Chote ki naseeb main jeet nahin hai!\",[114] which translates into: \"He won't win! It's not in the small one's destiny!\".[115]\n",
            "Tendulkar, succeeding Azharuddin as captain for his second term, led India on a tour of Australia, where the visitors were beaten 3–0 by the newly crowned world champions.[116] Tendulkar, however, won the player of the series award[116] as well as player of the match in one of the games.[117] After another Test series defeat, this time by a 0–2 margin at home against South Africa, Tendulkar resigned, and Sourav Ganguly took over as captain in 2000.[118][119]\n",
            "During the Indian team's 2007 tour of England, the desire of Rahul Dravid to resign from the captaincy became known. The BCCI President Sharad Pawar offered the captaincy to Tendulkar, who instead recommended Mahendra Singh Dhoni to take over the reins. Pawar later revealed this conversation, crediting Tendulkar for first forwarding the name of Dhoni, who since achieved much success as captain.[120]\n",
            "In the year of 2000 a huge match fixing scandal happened in Indian cricket. After the incident Sachin Tendulkar and other 3 senior cricketers played important role ensured that the players banned by BCCI and whose performance was dubious ware never picked for the Indian team again. Sachin and co. did this work quietly without doing public statements.[121]\n",
            "The continued calls for Tendulkar to be made captain, the offer of captaincy in 2007 and his rejection of the offer, there are numerous articles relating to where his faults were in captaincy.\n",
            "In India's 2001 tour of South Africa in the second test match between India and South Africa at St George's Park, Port Elizabeth, match referee Mike Denness fined four Indian players for excessive appealing, as well as fined the Indian captain Sourav Ganguly for not controlling his team.[122] Tendulkar was given a suspended ban of one game by Denness in light of alleged ball tampering. Television cameras picked up images that suggested Tendulkar may have been involved in cleaning the seam of the cricket ball.[123] This can, under some conditions, amount to altering the condition of the ball. Denness found Sachin Tendulkar guilty of ball tampering charges and handed him a one Test match ban.[124] The incident escalated to include sports journalists accusing Denness of racism,[125] and led to Denness being barred from entering the venue of the third Test match. The ICC revoked the status of the match as a Test as the teams rejected the appointed referee.[126] The charges against Tendulkar and Sehwag's ban for excessive appealing triggered a massive backlash from the Indian public.[127]\n",
            "Sachin Tendulkar continued performing well in Test cricket in 2001 and 2002, with some pivotal performances with both bat and ball. Tendulkar took three wickets on the final day of the famous Kolkata Test against Australia in 2001, including the key wickets of Matthew Hayden and Adam Gilchrist, who were centurions in the previous Test. His three wickets haul helped India win the match.[128] In the five-match ODI series that followed, he took his 100th wicket in ODIs, claiming the wicket of then Australian captain Steve Waugh in the final match at the Fatorda Stadium in Goa.[129]\n",
            "In the 2002 series in the West Indies, Tendulkar started well, scoring 79 in the first Test. In the second Test at Port of Spain, Sachin Tendulkar scored 117 in the first innings, his 29th Test century in his 93rd Test match, to equal Sir Donald Bradman's record of 29 Test hundreds. He was gifted a Ferrari 360 Modena by Fiat through Michael Schumacher for achieving this feat.[130][131][132]\n",
            "Then, in a hitherto unprecedented sequence, he scored 0, 0, 8 and 0 in the next four innings.[133] He returned to form in the last Test scoring 41 and 86, one half century. However, India lost the series.[134] In this period, in the third Test match against England in August 2002, Sachin scored his 30th Test century to surpass Bradman's haul, in his 99th Test match.[135][136]\n",
            "Tendulkar made 673 runs in 11 matches in the 2003 Cricket World Cup,[137] helping India reach the final. While Australia retained the trophy that they had won in 1999, Tendulkar was given the Man of the Tournament award.[138][139]\n",
            "He continued to score heavily in ODI cricket that year, with two hundreds in a tri-series involving New Zealand and Australia.[140][141] As a part-time bowler, he dismissed an exhausted centurion, Matthew Hayden in the tri-series final.[142]\n",
            "The drawn series as India toured Australia in 2003–04 saw Tendulkar making his mark in the last Test of the series, scoring 241 not out from 436 balls with 33 fours at a strike rate of 55.27 in Sydney, putting India in a virtually unbeatable position. He spent 613 minutes at the crease during the innings. He followed this up with an unbeaten 60 in the second innings of the Test.[143] Prior to this Test match, he had had an unusually horrible run of form, failing in all six innings in the preceding three Tests.[citation needed] It was no aberration that 2003 was his worst year in Test cricket, with an average of 17.00 and just one fifty.[144]\n",
            "Tendulkar scored an unbeaten 194 against Pakistan at Multan in the following series. Indian captain Rahul Dravid declared before Tendulkar reached 200; had he done so it would have been the fourth time he had passed the landmark in Tests.[145] Tendulkar said that he was disappointed and that the declaration had taken him by surprise.[146] Many former cricketers commented that Dravid's declaration was in bad taste.[147][148] After the match, which India won, Dravid said that the matter had been discussed internally and put to rest.[149]\n",
            "A tennis elbow injury then took its toll on Tendulkar, leaving him out of the side for most of the year, coming back only for the last two Tests when Australia toured India in 2004.[150][151] He played a part in India's victory in Mumbai in that series with a fast 55, though Australia took the series 2–1.[152]\n",
            "On 10 December 2005 at Feroz Shah Kotla, Tendulkar scored his record-breaking 35th Test century, against the Sri Lankans. After this, Tendulkar endured the longest[needs update] spell of his career without a Test century: 17 innings elapsed before he scored 101 against Bangladesh in May 2007.[153] Tendulkar scored his 39th ODI hundred on 6 February 2006 in a match against Pakistan.[154] He followed with a 42 in the second One-Day International against Pakistan on 11 February 2006,[155] and then a 95 in hostile, seaming conditions on 13 February 2006 in Lahore, which set up an Indian victory.[156] On 19 March 2006, after being dismissed for only one run against England in the first innings of the third Test in his home ground, Wankhede, Tendulkar was booed off the ground by a section of the crowd,[157] the first time that he had ever faced such flak. Tendulkar ended the three-Test series without a half-century to his credit, and the need for a shoulder operation raised more questions about his longevity.[citation needed]\n",
            "Tendulkar's comeback came in the DLF cup in Malaysia and he was the only Indian batsman to shine. In his comeback match, against West Indies on 14 September 2006, Tendulkar responded to his critics who believed that his career was inexorably sliding with his 40th ODI century.[158] Though he scored 141 not out, West Indies won the rain-affected match by the D/L method.[159]\n",
            "During the preparation for the 2007 World Cup, Tendulkar's attitude was criticised by Indian team coach Greg Chappell. Chappell reportedly felt that Tendulkar would be more useful down the order, while the latter felt that he would be better off opening the innings, the role he had played for most of his career.[160] Chappell also believed that Tendulkar's repeated failures were hurting the team's chances. In a rare show of emotion, Tendulkar hit out at the comments attributed to Chappell by pointing out that no coach had ever suggested his attitude towards cricket was incorrect. On 7 April 2007, the Board of Control for Cricket in India issued a notice to Tendulkar asking for an explanation for his comments made to the media.[161] Chappell subsequently resigned as coach but said that this affair had no bearing on his decision and that he and Tendulkar were on good terms.[160]\n",
            "At the World Cup in the West Indies, Tendulkar and the Indian cricket team led by Rahul Dravid had a dismal campaign. Tendulkar, who was pushed to bat lower down the order had scores of 7 against Bangladesh, 57 not out against Bermuda and 0 against Sri Lanka.[162][163][164] As a result, former Australian captain Ian Chappell, brother of Greg, called for Tendulkar to retire in his newspaper column.[165]\n",
            "After the loss against Bangladesh and Sri Lanka, Tendulkar was into depression and taught to retire from Cricket. But Viv Richards and Ajit Tendulkar stopped him.  According to Sachin, 23 March 2007, the loss against minnows Bangladesh is one of the worst days of his cricketing career.[166]\n",
            "In the subsequent Test series against Bangladesh, Tendulkar returned to his opening slot and was chosen as the Man of the Series.[167] He continued by scoring 99 and 93 in the first two matches of the Future Cup against South Africa. During the second match, he also became the first to score 15,000 runs in ODIs.[168] He was the leading run scorer and was adjudged the Man of the Series.[169][170]\n",
            "On the second day of the Nottingham Test on 28 July 2007, Tendulkar became the third cricketer to complete 11,000 Test runs.[171]\n",
            "In the subsequent one-day series against England, Tendulkar was the leading run scorer from India[172] with an average of 53.42. In the ODI Series against Australia in October 2007 Tendulkar was the leading Indian run scorer with 278 runs.[173]\n",
            "Tendulkar was dismissed five times in 2007 between 90 and 100, including three times at 99, leading some to suggestions that he struggles to cope with nervousness in this phase of his innings.[174] Tendulkar has got out 27 times in the 90s during his international career.[175] In a five-ODI series against Pakistan, he was caught by Kamran Akmal off the bowling of Umar Gul for 99 in the second match at Mohali,[176] and in the fourth match of that series, he got out in the 90s for a second time, scoring 97 before dragging a delivery from Gul on to his stumps.[177]\n",
            "In 2008 India's tour of Australia, at Sydney Test Andrew Symonds accused Harbhajan Singh for racist comments, Symonds accused Harbhajan Singh for calling him a monkey. This matter is dubbed as 'Monkeygate' by Australian media.[178]Singh was suspended by the match ICC referee after hearing. Sachin Tendulkar was standing on non striker's end, at that moment, when Symonds claimed racist comments happened. In the hearing of match referee, Sachin said to the ICC match referee Mike Procter, he can not say exactly what \"Bhajji\" (Singh) said to Symonds but in next hearing Tendulkar changed his stance and said to match referee that Harbhajan did not said Symonds \"Monkey\" but said, \"Teri Maa Ki...\" in Hindi it means, 'Your mother's...' . On this matter In his autobiography 'Playing my way' Sachin Tendulkar wrote, \"Teri Maa ki..., It is an expression we often use in North India to vent our anger and to me it all part of the game\". The matter became big in following days and nearly led to cancellation this tour.[179] Referee suspended Singh for 3 Test but after appeal and Sachin's statement in hearing the suspension was overturned. Andrew Symonds later in 'Monkeygate- Ten years on' a documentary, which was based on this matter said, When I began to play for Mumbai Indians, IPL franchise, once Harbhajan Singh came to me and apologised,  Symonds said in the documentry, “We go to a very wealthy man’s place for a barbecue, drinks and dinner one night and the whole team’s there and he had guests there, and Harbhajan said ‘mate, can I speak to you for a minute out in the garden out the front?’, “He goes, ‘look, I’ve got to say sorry to you for what I did to you in Sydney. I apologise.\"[180][181][182][183][184][185][179] Herald sun quoted, Tendulkar is still not \"forgiven\" by some Aussie players for changing his account on Monkeygate, dubbed Sachin as Indian \"demigod\".[186][187]\n",
            "In the Border-Gavaskar Trophy, 2007–08, Tendulkar showed exceptional form, becoming the leading run scorer with \"493 runs in four Tests, despite consistently failing in the second innings.[188] Sachin scored 62 runs in the first innings of the first Test at the MCG in Melbourne, but could not prevent a heavy 337-run win for Australia.[189] In the controversial New Years' Test at Sydney, Tendulkar scored an unbeaten 154, even though India lost the Test. This was his third century at the SCG and his 38th Test century overall, earning him an average of 326 at the ground at the time of completing the innings.[190][191] In the third Test at the WACA cricket ground in Perth, Sachin was instrumental in India's first innings score of 330, scoring a well-compiled 71. India went on to record a historic triumph at the WACA, ending Australia's run of 16 consecutive wins.[192] In the fourth Test at the Adelaide Oval, which ended in a draw, he scored 153 in the first innings, being involved in a crucial 126-run stand with V.V.S. Laxman for the fifth wicket to lead India to a score of 282 for 5 from 156 for 4.[193] He secured the Man of the Match award.[194]\n",
            "In the One-Day International Commonwealth Bank Tri-Series involving India, Sri Lanka and Australia, Tendulkar became the only batsman to complete 16,000 runs in ODIs.[195] He achieved this feat against Sri Lanka on 5 February 2008 at the Gabba in Brisbane. He started the series wth scores of 10, 35, 44 and 32.[196] His form dipped a bit in the middle of the tournament,[original research?] but Tendulkar came back strongly in India's must-win game against Sri Lanka at the Bellerive Oval in Hobart, scoring 63 off 54 balls.[197] He finished the series with a match winning 117 not out off 120 balls in the first final,[198] and 91 runs in the second final.[199] Both the knocks were nominated to be the ODI Batting Performance of the year by ESPNCricinfo.[200]\n",
            "South Africa toured in March and April 2008 for a three-Test series. Tendulkar scored a five-ball duck in his only innings of the series;[202] he sustained a groin strain in the match and as a result was forced not only to miss the second and third Tests, but also the tri-series involving Bangladesh, the 2008 Asia Cup, and the first half of the inaugural season of the IPL.[203]\n",
            "Before the Indian cricket team's tour of Sri Lanka in July 2008, Tendulkar needed 177 runs to go past Brian Lara's record of Test 11,953 runs. However, he failed in all six innings, scoring a total of 95 runs. India lost the series and his average of 15.83 was his worst in a Test series with at least three matches.[204]\n",
            "In the following ODI series against Sri Lanka, Tendulkar was sidelined due to injury.[205] However, during the following Australia tour of India, he returned to fitness and form, scoring 13 and 49 in the first Test[206] before making 88 in the first innings of the second Test, breaking the record for most Test runs held by Brian Lara. He also reached the 12,000-run mark when he was on 61.[207][208] He described the achievement as the biggest in 19 years of his career on the day he achieved the record.[209] He made a fifty in the third Test[210] and 109 in the fourth, as India won the series 2–0 and regained the Border-Gavaskar Trophy.[211]\n",
            "Tendulkar was again out of the first three ODIs of a seven-match ODI series at home against England due to an injury, but he made 11 in the fourth ODI[212] and 50 in the fifth,[213] before the series was called off due to the 2008 Mumbai terrorist attacks, the scoreline being 5–0 to India.[214][215]\n",
            "England returned for a two-match Test series in December 2008, and the first Test, which was originally planned to be held in Mumbai, was shifted to Chennai following the terror attacks.[214][215] Chasing 387 for victory in that match, Tendulkar scored 103 not out and shared a 163-run unbroken fifth wicket partnership with Yuvraj Singh.[216] This was his third century in the fourth innings of a Test match, and the first which resulted in a win.[217] He dedicated this century to the victims of the Mumbai terror attacks.[218] The knock was nominated to be one of the Test Batting Performance of the year by ESPNCricinfo.[219] Tendulkar scored poorly in the second Test at Mohali, which ended in a draw. India won the series 1–0.[220]\n",
            "In early 2009, India revisited Sri Lanka for five ODIs, as the Pakistan series had been cancelled due to the security situation in Pakistan and the attacks in Mumbai.[citation needed] Tendulkar scored 5, 6 and 7 in the first three matches, being dismissed leg before wicket in all of them, and did not play in the remaining two matches.[221]\n",
            "India's next assignment was an away series against New Zealand, consisting of three Tests and five ODIs. In the ODI series, Tendulkar made an unbeaten 163 in the third match before stomach cramps forced him to end his innings. India made 392, won the match[222] and eventually won the series 3–1.[223] Tendulkar made 160 in the first Test, his 42nd Test century, and India won.[224] He made 49 and 64 in the second Test[225] and 62 and 9 in the third, in which play was halted on the last day due to rain with India needing only two wickets to win. India won the series 1–0.[226][227]\n",
            "Tendulkar rested himself for the ODI tour of West Indies,[228] but was back for the Compaq Cup Tri Series between India, Sri Lanka and New Zealand in early September 2009. He made 46[229] and 27[230] in the league matches before notching up 138 in the final, as India made 319 and won by 46 runs.[231] This was Tendulkar's sixth century in a final of an ODI tournament and his third consecutive score of over 50 in such finals.[232]\n",
            "Tendulkar played only one innings in the ICC Champions trophy in South Africa, scoring 8 against Pakistan as India lost.[233] The next match against Australia was abandoned due to rain[234] and he was out with a stomach infection in the third match against the West Indies, as India were eliminated.[235]\n",
            "Australia returned for a seven-match ODI series in India in October, and Tendulkar made 14, 4, 32 and 40 in the first four games.[236] In the fifth match, with the series tied at 2–2, Australia amassed 350/4 in 50 overs.[237] Tendulkar made his 45th ODI hundred, a 175 off 141 balls. Just when it seemed that he would steer India to the large victory target, he tried to scoop a slower delivery from debutant bowler Clint McKay over short fine leg only to be caught by Nathan Hauritz, with India needing 19 runs to win with 18 balls and four wickets left. The Indian tail collapsed, and Australia won the match by three runs.[238][239] During this match, Tendulkar also became the first player to reach 17,000 ODI runs,[239][240] and achieved his personal best against Australia,[241] as well as the third-highest score in a defeat.[242] The knock was voted as the Best ODI Batting Performance of 2009 by ESPNCricinfo.[243]\n",
            "In the five-match ODI series against Sri Lanka in 2009–10, Tendulkar scored 69, 43, 96 not out and 8 in the first four matches,[244] with the fifth match being abandoned as the pitch was deemed unfit and potentially dangerous.[245] India won the series 3–1.[246] In the Test series that followed, he scored a 100 not out in the first Test, which was drawn, and 40 and 53 in the second and third Tests, respectively, as India clinched innings victories in both the Tests, to win the series 2–0.[247]\n",
            "Sachin rested himself for the ODI tri-series in Bangladesh in 2010, but played in the subsequent Test series.[248] He made 105 not out and 16 in the first Test, and 143 in the second. India won both the Tests.[249][250]\n",
            "In the two-Test Series against South Africa, Tendulkar made 7 and 100 in the first Test.[251] He then scored 106 in the first innings of the second Test, which was his 47th hundred in Test cricket. It was also his fourth hundred in successive Tests, and he was the fourth Indian to achieve this feat.[252][253] In the second match of the subsequent ODI series, Tendulkar scored 200 not out, becoming the world's first batsman to score a double century in ODI cricket and breaking the previous highest score of 194 jointly held by Pakistan's Saeed Anwar and Zimbabwe's Charles Coventry.[Note 2]\n",
            "From February to April, Bangladesh, India, and Sri Lanka hosted the 2011 World Cup. Amassing 482 runs at an average of 53.55 including two centuries, Tendulkar was India's leading run-scorer for the tournament; only Tillakaratne Dilshan of Sri Lanka scored more runs in the 2011 tournament,[259] and was named in the ICC 'Team of the Tournament'.[260] India defeated Sri Lanka in the final.[261] Shortly after the victory, Tendulkar commented that \"Winning the World Cup is the proudest moment of my life. ... I couldn't control my tears of joy.\"[262]\n",
            "India were due to tour the West Indies in June, although Tendulkar chose not to participate. He returned to the squad in July for India's tour of England.[267] Throughout the tour there was much hype in the media about whether Tendulkar would reach his 100th century in international cricket (Test and ODIs combined). However, his highest score in the Tests was 91; Tendulkar averaged 34.12 in the series as England won 4–0 as they deposed India as the No. 1 ranked Test side.[268][269] The injury Tendulkar sustained to his right foot in 2001 flared up and as a result he was ruled out of the ODI series that followed.[268] Tendulkar created another record on 8 November 2011 when he became the first cricketer to score 15,000 runs in Test cricket, during the opening Test match against the West Indies at the Feroz Shah Kotla Stadium in New Delhi.[270][271] For his performances in 2011, he was named in the World Test XI by the ICC.[272]\n",
            "Ian Chappell was not happy with Sachin's performance after India's tour of Australia. He says that Sachin's quest for his 100th hundred has proved to be a hurdle for the entire team and has hampered their performance on the Tour of Australia.[273] Former India World Cup winning captain and all-rounder Kapil Dev has also voiced his opinion that Sachin should have retired from ODI's after the World Cup.[274] Former Australian fast bowler, Geoff Lawson, has said that Sachin has the right to decide when to quit although he adds that Tendulkar should not delay it for too long.[275]\n",
            "The selection committee of BCCI expectedly included Sachin in the national Test squad for the upcoming series against New Zealand commencing in August 2012.[276]\n",
            "Tendulkar scored his 100th international hundred on 16 March 2012, at Mirpur against Bangladesh in the Asia Cup.[277] He became the first person in history to achieve this feat, which was also his first ODI hundred against Bangladesh. He said \"It's been a tough phase for me ... I was not thinking about the milestone, the media started all this, wherever I went, the restaurant, room service, everyone was talking about the 100th hundred. Nobody talked about my 99 hundreds. It became mentally tough for me because nobody talked about my 99 hundreds.\"[278] Despite Tendulkar's century, India failed to win the match against Bangladesh, losing by 5 wickets.[279]\n",
            "After being bowled out in three similar instances against New Zealand and hitting a slump in form, Tendulkar returned to the Ranji Trophy to get back some form ahead of the England Series at home,[citation needed] in a match for Mumbai against Railways on 2 November 2012. This was his first Ranji Trophy match since 2009. He scored 137 off 136 balls, with 21 fours and 3 sixes, to take his team to 344 for 4 at stumps on day one.[280]\n",
            "However, because of a poor form in the first two Tests in the series against England, and India being humiliated in the second match of that series by 10 wickets on 26 November 2012,[281] some people have started to question his place in the Indian team. A report by The Hindustan Times said that Tendulkar had a discussion with the national chief selector Sandeep Patil, in which he said that he would leave it to the selectors to decide on his future as he is not getting any runs.[282] This speculation, however, was later considered to be false.[283][284]\n",
            "Then he decided to play in the knockout stage of the 2012–13 Ranji Trophy. He scored 108 in the quarter final against Baroda before being bowled by Murtuja Vahora, where Sachin was involved in a 234-run partnership with opener Wasim Jaffer (150) for the 3rd wicket at Wankhede Stadium.[285] Mumbai eventually piled on 645/9 and won on 1st innings lead.[286] In the semi final against Services at Palam A Ground, with Mumbai reeling at 23/3, Sachin scored 56 from 75 balls and had an 81-run 4th wicket partnership with Abhishek Nayar (70),[287] and Mumbai eventually won on 1st innings lead after the match went into the sixth day due to rain delays.[288] In the final against Saurashtra, he was run out for 22 following a misunderstanding with Wasim Jaffer.[289] Mumbai eventually won the Ranji Trophy 2012–13.[290]\n",
            "He also played in the Irani Trophy for Mumbai, where he scored 140* against Rest of India and helped Mumbai to score 409 in reply to Rest of India's 526. This was also his 81st hundred in first-class cricket, equalling Sunil Gavaskar's Indian record for most first-class hundreds.[291]\n",
            "Following poor performance in the 2012 series against England, Tendulkar announced his retirement from One Day Internationals on 23 December 2012, while noting that he will be available for Test cricket.[292][293] In response to the news, former India captain Sourav Ganguly noted that Tendulkar could have played the up-coming series against Pakistan, while Anil Kumble said it would be \"tough to see an Indian (ODI) team list without Tendulkar's name in it\", and Javagal Srinath mentioned that Tendulkar \"changed the way ODIs were played right from the time he opened in New Zealand in 1994\".[294]\n",
            "After playing a Twenty20 International in 2006 against South Africa, he said that he would not play the format again.[295] He announced his retirement from the IPL after his team, Mumbai Indians, beat Chennai Super Kings by 23 runs at the Eden Gardens in Kolkata on 26 May to win the Indian Premier League 2013.[29] He retired from Twenty20 cricket and limited-overs cricket, after playing the 2013 Champions League Twenty20 in September–October 2013 in India for Mumbai Indians.[296]\n",
            "On 10 October 2013 Tendulkar announced that he would retire from all cricket after the two-Test series against West Indies in November.[297][298] At his request, the BCCI arranged that the two matches be played at Kolkata and Mumbai so that the farewell would happen at his home ground.[299][300] He scored 74 runs in his last Test innings against West Indies, thus failing short by 79 runs to complete 16,000 runs in Test cricket, the next man to bat after him was the future captain Virat Kohli.[30][301] The Cricket Association of Bengal and the Mumbai Cricket Association organised events to mark his retirement from the sport.[302][303] Various national and international figures from cricket, politics, Bollywood and other fields spoke about him in a day-long Salaam Sachin Conclave organised by India Today.[304][305]\n",
            "In July 2014, he captained the MCC side in the Bicentenary Celebration match at Lord's.[306]\n",
            "In December 2014, he was announced ambassador of the ICC Cricket World Cup 2015 event.[307][308] It is his second term as he has already held the ambassador of the previous ICC Cricket World Cup 2011.[309][310] He got the ambassador position of the ICC Cricket world cup in consecutive terms of the cricket world cup (2011 and 2015).\n",
            "Tendulkar organised exhibition cricket matches in partnership with former Aussie cricketer Shane Warne. Cricket All-Stars held in USA in baseball stadiums and had retired players, some of them was Sourav Ganguly, Shoaib Akhtar, Wasim Akram.[311]\n",
            "He captained the India legends team to victory in the 2020–21 Road Safety World Series and was the leading run scorer for the Indian team in the tournament.[312][313]\n",
            "He acted as a coach for the Ponting XI during The Big Appeal. During the innings break, he batted an over against Ellyse Perry and Annabel Sutherland at Perry's request.[314][315]\n",
            "Tendulkar was made the Icon player and captain for his home side, the Mumbai Indians in the inaugural Indian Premier League Twenty20 competition in 2008.[316] As an icon player, he was signed for a sum of US$1,121,250, 15% more than the second-highest paid player in the team, Sanath Jayasuriya.[317]\n",
            "In 2010 edition of Indian Premier League, Mumbai Indians reached the final of the tournament. Tendulkar made 618 runs in 14 innings during the tournament, breaking Shaun Marsh's record of most runs in an IPL season. He was declared player of the tournament for his performance during the season. He also won Best Batsman and Best Captain awards at 2010 IPL Awards ceremony.[318] Sachin has scored more than 500 runs in IPL in two different seasons as a captain.[319]\n",
            "Sachin Tendulkar captained Mumbai Indians in 4 league matches of second edition of the league. He scored 68 in the first match and 48 against Guyana. But Mumbai Indians failed to qualify for semifinals after losing the initial two matches. Tendulkar scored 135 runs.[320]\n",
            "In the 2011 IPL, against Kochi Tuskers Kerala, Tendulkar scored his maiden Twenty20 hundred. He scored 100 not out off 66 balls. In 2013, Sachin retired from Indian Premier League and in 2014 he was appointed as the Mumbai Indian's 'Team Icon'.[321][322] His last match for the team was the \n",
            "final of the 2013 Champions League, where he scored 14 runs in an Indians victory. In his 78 matches in the IPL, Tendulkar scored a total of 2,334 runs; at the time of his retirement he was the fifth-highest run-scorer in the competition's history.[323] Mumbai Indians retired his number 10 jersey as a tribute to Tendulkar.[324]\n",
            "Tendulkar is cross-dominant: he bats, bowls and throws with his right hand, but writes with his left hand.[325][326] He also practices left-handed throws at the nets on a regular basis. Cricinfo columnist Sambit Bal has described him as the \"most wholesome batsman of his time\".[1] His batting is based on complete balance and poise while limiting unnecessary movements and flourishes. He appears to show little preference for the slow and low wickets which are typical in India, and has scored many centuries on the hard, bouncy pitches in South Africa and Australia.[1] He is known for his unique punch style of hitting the ball over square. He is also renowned for his picture-perfect straight drive, often completed with no follow-through. The straight drive is often said to be his favourite shot.[327] In 2008, Sunil Gavaskar, in an article he wrote in the AFP, remarked that \"it is hard to imagine any player in the history of the game who combines classical technique with raw aggression like the little champion does\".[328] Equipment-wise, his bats tend to be heavier than the average batman.[329]\n",
            "Sir Donald Bradman, considered by many as the greatest batsman of all time, considered Tendulkar to have a batting style similar to his. In his biography, it is stated that \"Bradman was most taken by Tendulkar's technique, compactness and shot production, and had asked his wife to have a look at Tendulkar, having felt that Tendulkar played like him. Bradman's wife, Jessie, agreed that they did appear similar.\"[330][331]\n",
            "Former Australian cricket team coach John Buchanan voiced his opinion that Tendulkar had become susceptible to the short ball early in his innings because of a lack of footwork.[332] Buchanan also believes Tendulkar has a weakness while playing left-arm pace.[332] He was affected by a series of injuries since 2004. Since then Tendulkar's batting has tended to be less attacking. Explaining this change in his batting style, he has acknowledged that he is batting differently because, firstly, no batsman can bat the same way for the entire length of a long career and, secondly, he is a senior member of the team now and thus has more responsibility. During the early part of his career, he was a more attacking batsman and frequently scored centuries at close to a run a ball. Ian Chappell, former Australian player, remarked in 2007 that \"Tendulkar now, is nothing like the player he was when he was a young bloke\".[333]\n",
            "Tendulkar has incorporated several modern and unorthodox strokes into his repertoire, including the paddle sweep, the scoop over short fine leg and the slash to third man over the slips' heads, especially in his later years. He is often praised for his ability to adapt to the needs of his body and yet keep scoring consistently.[334]\n",
            "While Tendulkar was not a regular bowler, he could bowl medium pace, leg spin, and off spin. He often bowled when two batsmen of the opposite team had been batting together for a long period, as he could often be a useful partnership breaker.[335] With his bowling, he helped secure an Indian victory on more than one occasion.[336] He took 201 international wickets—46 in Tests, 154 in ODIs where he is India's twelfth-highest wicket taker, and one wicket in Twenty20 Internationals.[337]\n",
            "Tendulkar's consistent performances earned him a fan following across the globe, including amongst Australian crowds, where Tendulkar has consistently scored centuries.[86] One of the most popular sayings by his fans is \"Cricket is my religion and Sachin is my God\".[338] Cricinfo mentions in his profile that \"... Tendulkar remains, by a distance, the most worshipped[clarification needed] cricketer in the world.\"[1][additional citation(s) needed]\n",
            "During the Australian tour of India in 1998 Matthew Hayden said \"I have seen God. He bats at no. 4 in India in Tests.\"[339] However, on God, Tendulkar himself is reported to have said \"I am not God of cricket. I make mistakes, God doesn't.\"[340] Tendulkar made a special appearance in the Bollywood film Stumped in 2003, appearing as himself.[341][unreliable fringe source?]\n",
            "On 24 February 2010, Cricinfo site could not handle the heavy traffic experienced after Tendulkar broke the record for the highest individual male score in a One Day International match against South Africa, also becoming the first player to score 200* in the history of ODIs as more than 5 million fans visited the website at a time.[342][343]\n",
            "There have been many instances when Tendulkar's fans have undertaken extreme activities over his dismissal in the game. As reported by many Indian newspapers, a person hanged himself due to distress over Tendulkar's failure to reach his 100th century.[344]\n",
            "At home in Mumbai, Tendulkar's fan following has caused him to lead a different lifestyle. Ian Chappell has said that he would be unable to cope with the lifestyle Tendulkar was forced to lead, having to \"wear a wig and go out and watch a movie only at night\".[333] In an interview with Tim Sheridan, Tendulkar admitted that he sometimes went for quiet drives in the streets of Mumbai late at night when he would be able to enjoy some peace and silence.[345] Tendulkar has a presence in the popular social networking site Twitter with the user name sachin_rt, since May 2010.[346]\n",
            "In 2015 he was appointed by BCCI into the Cricket Advisory Committee (CAC).[347] He was one of three in the committee along VVS Laxman and Sourav Ganguly. He resigned from this job after allegations of conflict of interest on him. CAC was formed by BCCI to appoint a head coach for Indian cricket team.[348] On 23 June 2016, CAC appointed Anil Kumble as national team's head coach.[349]\n",
            "In 2019, Tendulkar made his debut as a Cricket commentator during 2019 ICC Cricket World Cup.[350][351]\n",
            "In 2021 IPL season he worked for Mumbai Indians team as a mentor.[352]\n",
            "Sachin Tendulkar is the leading run scorer in Tests, with 15,921 runs, as well as in One-Day Internationals, with 18,426 runs.[1] He is the only player to score more than 30,000 runs in all forms of international cricket (Tests, ODIs and Twenty20 Internationals).[7] He is the 16th player and the first Indian to score 50,000 runs in all forms of domestic and international recognised cricket (First-class, List A and Twenty20). He achieved this feat on 5 October 2013, during a Champions League Twenty20 match for his IPL team Mumbai Indians against Trinidad and Tobago.[353][354][355]\n",
            "In 2012, Tendulkar was ranked number 8 in Outlook India's poll of the Greatest Indian.[356]\n",
            "He also holds the record of the highest number of centuries in both Tests (51) and ODIs (49) as well as in Tests and ODIs combined (100). On 16 March 2012, Tendulkar scored his 100th international hundred. It came against Bangladesh in the league matches of Asia Cup 2012.[357] He is also the only player to score fifty centuries in Test cricket,[358] and the first to score fifty centuries in all international cricket combined.[359] He also holds the world record for playing the highest number of Test matches (200)[360] and ODI matches (463).[361] Tendulkar has been part of most wins by an Indian in both Test cricket with 72 wins and ODIs with 234 wins and is third in the world in ODI victories after Ricky Ponting (262 wins), Mahela Jayawardene (241 wins).[362][363]\n",
            "Tendulkar has scored over 1,000 runs in a calendar year in ODIs 7 times, and in 1998 he scored 1,894 runs, the record for the highest number of runs scored by any player in a single calendar year for One-Day Internationals.[361] He is the first male cricketer to score a double-century in one-day cricket.[256]\n",
            "He has been Man of the Match 13 times in Test matches and Man of the Series four times, out of them twice in the Border-Gavaskar Trophy against Australia.[364] The performances earned him respect from Australian cricket fans and players.[86] Similarly he has been Man of the Match 62 times in One day International matches and Man of the Series 15 times.[361] He became the first batsman to score 12,000, 13,000, 14,000 and 15,000 runs in Test cricket,[365] having also been the third batsman and the first Indian to pass 11,000 runs in that form of the game.[366] He was also the first player to score 10,000 runs in one-day internationals,[367] and also the first player to cross every subsequent 1,000-run mark that has been crossed in ODI cricket history.[citation needed] In the fourth Test of the 2008–09 Border-Gavaskar Trophy against Australia at Nagpur on 6 November 2008, Tendulkar surpassed Australia's Allan Border to become the player to cross the 50-run mark the most times in Test cricket history,[368] and also the second ever player to score 11 Test centuries against Australia, tying with Sir Jack Hobbs of England more than 70 years previously.[369] On 8 November 2011, Tendulkar became the first batsman to score 15,000 runs in Test Cricket.[370]\n",
            "Tendulkar has consistently done well in Cricket World Cups. He was the highest run scorer of the 1996 Cricket World Cup with a total of 523 runs and also of the 2003 Cricket World Cup with 673 runs.[371] After his century against England during group stages of 2011 Cricket World Cup, he became the player to hit most centuries in Cricket World Cups with six centuries and the first player to score 2000 runs in World Cup cricket.[372][373]\n",
            "Tendulkar was also one half of the most prolific Test cricket partnership to date, alongside Rahul Dravid. Batting together, they scored 6920 runs for India at a partnership average of over fifty runs.[374]\n",
            "On 24 May 1995, Tendulkar married Anjali Mehta (b. 1967), a paediatrician of Gujarati origin, whom he had first met in 1990.[398][399][400][401] Anjali Mehta decided to leave her education in half to become a full time housewife.[402] His mother Rajni Tendulkar lives with him in his Perry Road's house.[403][404] Sachin Tendulkar's wife Anjali is 6 years older than him.[405][406] They have a daughter Sara and a son Arjun.[407][408] He can speak Marathi, English and Hindi fluently. Tendulkar lives in a bungalow of Mumbai's suburb Bandra. The bungalow is like a building and located near Perry road.[409]  He reads Marathi newspaper.[403]\n",
            "Tendulkar is a practising Hindu. He is a Marathi man, He celebrates Maharashtra's festivals such as Gudhi Padwa,[410] Raksha Bandhan.[411][verification needed] He also celebrates Diwali festival.  He is a devotee of the deity Ganesha.[412] He celibrates Ganesh Chaturthi- Ganeshotsav at his house by doing pran pratishta of Ganpati Bappa murti in his home[413][414] and he visits mandirs during night when it is calm and quiet to take darshan.[415][416]\n",
            "He is a devotee of Sathya Sai Baba of Puttaparthi, whom he visited for the first time in 1997, during the Sri Sathya Sai Unity Cup match between India XI and World XI, at the Sri Sathya Sai hill view stadium.[417][418][419] In 1997, Tendulkar captained the Indian National side, playing against a World Eleven team, in the Unity Cup which was held at the Sri Sathya Sai Hill View Stadium in Puttaparthi, in Baba's presence.[420][421] The death of Sai Baba on Tendulkar's 38th birthday caused him to cancel his celebrations.[422][423]\n",
            "Tendulkar's popularity has led him to be a pioneer in India on cricket business dealings when he signed a record sports management deal with WorldTel in 1995, the value of the deal being ₹300 million (US$4.0 million) over five years.[424][425] His next contract with WorldTel in 2001 was valued at ₹800 million (US$11 million) over five years.[426] In 2006, he signed a contract with Saatchi and Saatchi's ICONIX valued at ₹1.8 billion (US$24 million) over three years.[427]\n",
            "Tendulkar has opened two restaurants: Tendulkar's[428] (Colaba, Mumbai) and Sachin's[429] (Mulund, Mumbai) and Bangalore. Tendulkar owns these restaurants in partnership with Sanjay Narang of Mars Restaurants.[430]\n",
            "Tendulkar co-owned the Kerala Blasters FC in the Indian Super League Football in association with PVP Ventures owned by Prasad V Potluri till 2017. The team has been named as Kerala Blasters after his nickname \"Master Blaster\".[431][432][433] He also jointly owns the badminton team Bengaluru Blasters which participates in the Premier Badminton League.[434]\n",
            "In 2013, Tendulkar was listed at 51st position in Forbes' list of world's highest-paid athletes, with his total earnings estimated to be US$22 million.[435] In October 2013, the net worth of Tendulkar was estimated at US$160 million by Wealth-X, making him India's wealthiest cricket player.[436][437]\n",
            "He started 'Sachin Ramesh Tendulkar sports management Pvt Ltd', sports management organisation. It manages all social and commercial work of Tendulkar.[438]\n",
            "Sachin Tendulkar has been sponsored by several brands throughout his career including Boost (1990–present),[439] Pepsi (1992–2009),[440] Action Shoes (1995–2000),[441] MRF (1999–2009),[442] Adidas (2000–10), Britannia (2001–07),[443] Fiat Palio (2001–03),[444] TVS (2002–05),[445] ESPN Star Sports (2002–present),[446] Sunfeast (2007–13),[447] Canon (2006–09),[448] Airtel (2004–06),[449] Rorito (2016–18),[450] G-Hanz (2005–07),[451] Sanyo BPL (2007–present),[452] Toshiba (2010–present),[453] Colgate-Palmolive,[454] Philips,[454] VISA,[454] Castrol India (2011–12),[455] Ujala Techno Bright,[456] Coca-Cola (2011–13),[457] Musafir.com (2013–present),[458] and Paytm First Games (2020–present).[459]\n",
            "He has also been a spokesperson for National Egg Coordination Committee (2003–05),[460] AIDS Awareness Campaign (2005)[461] and Luminous India (2010–present).[462]\n",
            "In April 2012, Tendulkar accepted the Rajya Sabha nomination proposed by the President of India and became the first active sportsperson and cricketer to have been nominated as Member of Parliament (MP).[23][463]  He took the oath of office on 4 June.[464] He refused to take the bungalow allotted to him in New Delhi calling it \"waste of taxpayers' money\" as he resides in Mumbai.[465] He met with controversy over his absence in Rajya Sabha proceedings.[466] In 2019, Tendulkar contributed Rs. 22 lakh from his Members of Parliament Local Area Development (MPLAD) funds allotted to him during his stint as Rajya Sabha MP for the renovation of a Children's Park in East Bandra.[467] In the past six years as a Rajya Sabha MP, Sachin had drawn nearly Rs 90 lakh in salaries and other monthly allowances. He donated this entire salary and allowances to the Prime Minister's Relief Fund. The PMO has also issued a letter of acknowledgement which states: \"Prime Minister acknowledges this thoughtful gesture and conveys his gratitude. These contributions will be of immense help in providing assistance to the persons in distress.[468]\n",
            "As a member of parliament in Rajyasabha, Tendulkar was one of the worst performers.[469] he remained absent from the parliament's discussions sessions most of the times and was one of the least present MP among nominated MPs. He faced criticism for absence from house.[470] Fellow MPs from various parties as well as nominated MPs criticized Tendulkar for absence and asked question, 'why the nominated MPs Tendulkar and Rekha not coming to the parliament ?'.[471][472] According to the Hindustan Times's report dated 24 July 2014, he didn't spend a penny of his 15 crore  MP Local Area Development Scheme fund for public welfare. In defence Tendulkar said that he was absent because of personal issues.[473] Tendulkar was nominated in April 2013, in first year he did not attended a single day of budget or winter session, attendance on monsoon session was 5%. In his career as MP he asked 22 questions and did not participated in any debates. He was part of the 'standing committee on information technology'. Overall his attendance in his six years term was merely 8%[474]\n",
            "Tendulkar has been associated with UNICEF. He lent his support to spread AIDS awareness. In 2003, he worked for UNICEF's initiative to spread awareness about Polio disease and promote Polio prevention in India. Since 2008 he is involved in UNICEF's initiative to create and  promote hygiene and sanitation.[475]\n",
            "In 2016, When Tendulkar was a Rajyasabha MP, on the request letter for fund from  a school, Swarnamoyee Sasmal Shiksha Niketan of West madinapore, West Bengal, Tendulkar released 70- 76 lakh rupees from his Members of Parliament Local Area Development Scheme fund to the school.[476]\n",
            "He was one of the first nine celebrities appointed by the Indian Prime Minister Narendra Modi to spread awareness regarding cleanliness and make Swachh Bharat Mission (Clean India Mission) a people's movement.[477] The cricketer accepted the nomination and posted a video of sweeping a street with his friends in Mumbai.[478] In 2017, he helped sanitation workers to clean the Bandra Fort to contribute in Swachhata Hi Seva (cleanliness is service) campaign of clean India movement and to spread awareness and encourage people for this Clean India movement.[479] In 2019, he was awarded the most effective Swachhta Ambassador by India Today Group's fifth edition of Safaigiri awards for using his popularity and fame to promote cleanliness and ensure the country achieves its goal of a Swachh Bharat.[480] On the occasion of the World Nature Conservation day 2020, the cricketer took to twitter to spread message about the preservation of biodiversity.[481]\n",
            "Tendulkar sponsors 200 underprivileged children every year through Apnalaya, a Mumbai-based NGO associated with his mother-in-law, Annabel Mehta.[482][483] A request by him on Twitter raised ₹10.2 million (US$140,000) through Sachin's crusade against cancer for the Crusade against Cancer foundation.[484][485] Sachin Tendulkar spent nine hours on the 12-hour Coca-Cola-NDTV Support My School telethon on 18 September 2011 that helped raise ₹70 million (US$930,000) to ₹20 million (US$270,000) more than the target—for the creation of basic facilities, particularly toilets for girl students, in 140 government schools across the country.[486]\n",
            "8 February 2020, he played in a charity match organised in Australia to raise fund for Australian bushfire victims. The match named as 'Bushfire Cricket Bash'.[487]\n",
            "In March 2020, He donated 25 lakh rupees in Prime minister relief fund and  25 lakh rupees for Chief minister relief fund of Maharashtra in the initial months of COVID-19 spread. He was one of the  first few sportspersons of India, who came forward to donate money to relief COVID-19 disease in India.[488]\n",
            "On 15 June 2021, on the occasion of world blood donar day, he donated blood in a hospital and appealed peoples to donate blood by using social media.[489] he urges everyone who can to donate blood and tried to spread awareness for blood donation.[490]\n",
            "On 29 April 2021 during second wave of COVID-19 pandemic in India, he donated 1 crore rupees to buy oxygen concentrator devices. He donated to a Mission oxygen group, who have set up a fund raising initiative to import Oxygen concentrator devices and donate it to the hospitals all over the India.[491]\n",
            "In November 2021, He donated retinal cameras to a hospital in Assam of North East India. This device can be used to diagnose Retinopathy of prematurity.[492]\n",
            "Amid COVID-19 outbreak he provided undisclosed amount to 4000 underprivileged peoples including children's of Brihanmumbai Municipal Corporation schools.[493]\n",
            "Sachin Tendulkar's autobiography, Playing It My Way, was released on 6 November 2014. It was listed in the 2016 Limca Book of Records for breaking the record for adult hardback pre-publication orders, with 1,50,289 copies confirmed.[495] It was written by a ghostwriter Boria Majumdar.[496]\n",
            "Sachin Tendulkar has been the subject of various books. The following is the listing of books focused on Tendulkar's career:\n",
            "A docudrama film  was released in 2017 about Tendulkar, featuring interviews of number of former Cricket players and sports commentators. The film received mixed reviews.[402][508]\n",
            "[510]\n",
            "\n"
          ]
        }
      ]
    },
    {
      "cell_type": "code",
      "source": [
        "nltk.download('punkt')"
      ],
      "metadata": {
        "colab": {
          "base_uri": "https://localhost:8080/"
        },
        "id": "EN56nkWX0HKI",
        "outputId": "471839d8-5127-4b8d-841d-9a15dca200ee"
      },
      "execution_count": 9,
      "outputs": [
        {
          "output_type": "stream",
          "name": "stdout",
          "text": [
            "[nltk_data] Downloading package punkt to /root/nltk_data...\n",
            "[nltk_data]   Unzipping tokenizers/punkt.zip.\n"
          ]
        },
        {
          "output_type": "execute_result",
          "data": {
            "text/plain": [
              "True"
            ]
          },
          "metadata": {},
          "execution_count": 9
        }
      ]
    },
    {
      "cell_type": "code",
      "source": [
        "article_text = re.sub(r'\\[[0-9]*\\]', ' ', article_text)\n",
        "article_text = re.sub(r'\\s+', ' ', article_text)\n",
        "\n",
        "formatted_article_text = re.sub('[^a-zA-Z]', ' ', article_text )\n",
        "formatted_article_text = re.sub(r'\\s+', ' ', formatted_article_text)\n",
        "\n",
        "sentence_list = nltk.sent_tokenize(article_text)\n",
        "#print(sentence_list)\n",
        "\n",
        "stopwords = nltk.corpus.stopwords.words('english')\n",
        "\n",
        "word_frequencies = {}\n",
        "for word in nltk.word_tokenize(formatted_article_text):\n",
        "    if word not in stopwords:\n",
        "        if word not in word_frequencies.keys():\n",
        "            word_frequencies[word] = 1\n",
        "        else:\n",
        "            word_frequencies[word] += 1\n",
        "            \n",
        "maximum_frequncy = max(word_frequencies.values())"
      ],
      "metadata": {
        "id": "JnBYTCq5zuQP"
      },
      "execution_count": 10,
      "outputs": []
    },
    {
      "cell_type": "code",
      "source": [
        "for word in word_frequencies.keys():\n",
        "    word_frequencies[word] = (word_frequencies[word]/maximum_frequncy)\n",
        "\n",
        "sentence_scores = {}\n",
        "for sent in sentence_list:\n",
        "    for word in nltk.word_tokenize(sent.lower()):\n",
        "        if word in word_frequencies.keys():\n",
        "            if len(sent.split(' ')) < 20:\n",
        "                if sent not in sentence_scores.keys():\n",
        "                    sentence_scores[sent] = word_frequencies[word]\n",
        "                else:\n",
        "                    sentence_scores[sent] += word_frequencies[word]\n",
        "\n",
        "#print(sentence_scores)"
      ],
      "metadata": {
        "id": "TL2t-eiC0TYY"
      },
      "execution_count": 11,
      "outputs": []
    },
    {
      "cell_type": "code",
      "source": [
        "import heapq\n",
        "summary_sentences = heapq.nlargest(50, sentence_scores, key=sentence_scores.get)\n",
        "\n",
        "doc = ' '.join(summary_sentences)\n",
        "#print(summary_sentences, sep = \"\\n\")\n",
        "\n",
        "#print(type(summary_sentences))\n",
        "#for s in summary_sentences:\n",
        "    #print(s)\n",
        "    \n",
        "text_tokens = word_tokenize(doc)\n",
        "\n",
        "#cword = [word for word in text_tokens if not word in stopwords.words()]\n",
        "\n",
        "#print(type(doc))\n",
        "\n",
        "val=1\n",
        "for sen in summary_sentences:\n",
        "    #print(val,sen)\n",
        "    val+=1\n",
        "    \n",
        "total_words = doc.split()\n",
        "total_word_length = len(total_words)\n",
        "#print(total_word_length)\n",
        "\n",
        "total_sentences = tokenize.sent_tokenize(doc)\n",
        "total_sent_len = len(total_sentences)\n",
        "print(total_sent_len)\n"
      ],
      "metadata": {
        "colab": {
          "base_uri": "https://localhost:8080/"
        },
        "id": "eXpUr-ee0b0K",
        "outputId": "5aadc421-a67e-408a-a7f7-45a279236c8c"
      },
      "execution_count": 12,
      "outputs": [
        {
          "output_type": "stream",
          "name": "stdout",
          "text": [
            "50\n"
          ]
        }
      ]
    },
    {
      "cell_type": "code",
      "source": [
        "tf_score = {}\n",
        "for each_word in total_words:\n",
        "    each_word = each_word.replace('.','')\n",
        "    if each_word not in stop_words:\n",
        "        if each_word in tf_score:\n",
        "            tf_score[each_word] += 1\n",
        "        else:\n",
        "            tf_score[each_word] = 1\n",
        "\n",
        "# Dividing by total_word_length for each dictionary element\n",
        "tf_score.update((x, y/int(total_word_length)) for x, y in tf_score.items())\n",
        "#print(tf_score)\n",
        "\n",
        "def check_sent(word, sentences): \n",
        "    final = [all([w in x for w in word]) for x in sentences] \n",
        "    sent_len = [sentences[i] for i in range(0, len(final)) if final[i]]\n",
        "    return int(len(sent_len))\n",
        "idf_score = {}\n",
        "for each_word in total_words:\n",
        "    each_word = each_word.replace('.','')\n",
        "    if each_word not in stop_words:\n",
        "        if each_word in idf_score:\n",
        "            idf_score[each_word] = check_sent(each_word, total_sentences)\n",
        "        else:\n",
        "            idf_score[each_word] = 1\n",
        "\n",
        "# Performing a log and divide\n",
        "idf_score.update((x, math.log(int(total_sent_len)/y)) for x, y in idf_score.items())\n",
        "\n",
        "#print(idf_score)\n",
        "\n",
        "tf_idf_score = {key: tf_score[key] * idf_score.get(key, 0) for key in tf_score.keys()}\n",
        "print(tf_idf_score)"
      ],
      "metadata": {
        "colab": {
          "base_uri": "https://localhost:8080/"
        },
        "id": "xgSuP0k20n-X",
        "outputId": "0f22d5e3-0099-4eb2-fca3-ff5eb21af4d7"
      },
      "execution_count": 13,
      "outputs": [
        {
          "output_type": "stream",
          "name": "stdout",
          "text": [
            "{'During': 0.005351604658588435, 'second': 0.0004323960970909426, 'match,': 0.0031174672590652936, 'also': 0.0020595423583031573, 'became': 0.0027952154515238884, 'first': 0.0044186014649528, 'score': 0.00042322437563671307, '15,000': 0.007697430141614327, 'runs': 0.0012696731269101393, 'ODIs': 0.005379241741102141, 'On': 0.005351604658588435, '8': 0.004691650966051783, 'November': 0.005351604658588435, '2011,': 0.005351604658588435, 'Tendulkar': 0.019077174181291123, 'batsman': 0.005351604658588435, 'Test': 0.005231581952864566, 'Cricket': 0.01754865970757616, 'scored': 0.001873716420727418, '326': 0.005351604658588435, '(not': 0.005351604658588435, 'out)': 0.005351604658588435, 'innings': 0.0018315476168060992, 'thousand': 0.005351604658588435, 'tournament': 0.005351604658588435, 'Batting': 0.005351604658588435, 'together,': 0.005351604658588435, '6920': 0.005351604658588435, 'India': 0.007585742058111576, 'partnership': 0.003792871029055788, 'average': 0.004691650966051783, 'fifty': 0.005351604658588435, 'made': 0.0034154919392217877, '673': 0.005351604658588435, '11': 0.005351604658588435, 'matches': 0.002696339810987984, '2003': 0.005351604658588435, 'World': 0.009449733623778574, 'Cup,': 0.007697430141614327, 'helping': 0.005351604658588435, 'reach': 0.005351604658588435, 'final': 0.005351604658588435, 'He': 0.018641791509805716, '68': 0.005351604658588435, 'match': 0.0049432896534779705, '48': 0.005351604658588435, 'Guyana': 0.005351604658588435, 'played': 0.004403386901324488, '664': 0.005351604658588435, 'international': 0.005351604658588435, 'cricket': 0.005590430903047778, 'total,': 0.005351604658588435, 'scoring': 0.0036630952336121985, '34,357': 0.005351604658588435, 'It': 0.0017891285017966184, 'enabled': 0.005351604658588435, 'post': 0.005351604658588435, 'excess': 0.005351604658588435, '300': 0.005351604658588435, 'time': 0.005351604658588435, 'ODI': 0.013448104352755353, 'In': 0.006261949756288164, 'Series': 0.006605080351986732, 'Australia': 0.009383301932103566, 'October': 0.005351604658588435, '2007': 0.005351604658588435, 'leading': 0.0025288076857338587, 'Indian': 0.005689306543583682, 'run': 0.00025393462538202783, 'scorer': 0.00025393462538202783, '278': 0.005351604658588435, '2019,': 0.005351604658588435, 'debut': 0.005351604658588435, 'commentator': 0.005351604658588435, '2019': 0.005351604658588435, 'ICC': 0.005351604658588435, 'Cup': 0.0058009946270864325, 'male': 0.005351604658588435, 'cricketer': 0.0013976077257619444, 'double-century': 0.005351604658588435, 'one-day': 0.005351604658588435, 'season[clarification': 0.005351604658588435, 'needed]': 0.011546145212421489, '1988,': 0.005351604658588435, 'century': 0.004746925131079196, 'every': 0.005351604658588435, 'Sachin': 0.004403386901324488, '500': 0.005351604658588435, 'IPL': 0.005351604658588435, 'two': 0.003792871029055788, 'different': 0.005351604658588435, 'seasons': 0.005351604658588435, 'captain': 0.001896435514527894, '392,': 0.005351604658588435, 'eventually': 0.005351604658588435, 'series': 0.00013818541256853262, '3–1': 0.005351604658588435, '2002': 0.005351604658588435, 'West': 0.0058009946270864325, 'Indies,': 0.005351604658588435, 'started': 0.005351604658588435, 'well,': 0.005351604658588435, '79': 0.005351604658588435, 'The': 0.0019618432323242124, 'tail': 0.005351604658588435, 'collapsed,': 0.005351604658588435, 'three': 5.527416502741305e-05, '9': 0.005351604658588435, 'September': 0.005351604658588435, '1994': 0.005351604658588435, 'Sri': 0.005351604658588435, 'Lanka': 0.005351604658588435, 'Colombo': 0.005351604658588435, 'two-Test': 0.005351604658588435, 'South': 0.004403386901324488, 'Africa,': 0.005351604658588435, '7': 0.005351604658588435, '100': 0.005351604658588435, 'one': 0.00022337616700550042, 'half': 0.0015863707120463534, 'prolific': 0.005351604658588435, 'date,': 0.005351604658588435, 'alongside': 0.005351604658588435, 'Rahul': 0.005351604658588435, 'Dravid': 0.005351604658588435, 'This': 0.0013078954882161415, 'Ranji': 0.005351604658588435, 'Trophy': 0.005351604658588435, 'since': 0.005351604658588435, '2009': 0.005351604658588435, 'year': 0.005351604658588435, '2000': 0.005351604658588435, 'huge': 0.005351604658588435, 'fixing': 0.005351604658588435, 'scandal': 0.005351604658588435, 'happened': 0.005351604658588435, 'holds': 0.005351604658588435, 'world': 0.005351604658588435, 'record': 0.0004323960970909426, 'playing': 0.0050139027735931875, 'highest': 0.005351604658588435, 'number': 0.005351604658588435, '(200)': 0.005351604658588435, '(463)': 0.005351604658588435, 'fifth': 0.005351604658588435, 'tied': 0.005351604658588435, '2–2,': 0.005351604658588435, 'amassed': 0.005351604658588435, '350/4': 0.005351604658588435, '50': 0.005351604658588435, 'overs': 0.005351604658588435, 'took': 0.005351604658588435, '78': 0.005351604658588435, '39th': 0.005351604658588435, 'hundred': 0.0002882640647272951, '6': 0.005351604658588435, 'February': 0.005351604658588435, '2006': 0.005351604658588435, 'Pakistan': 0.008806773802648975, \"Tendulkar's\": 0.009449733623778574, 'tenures': 0.005351604658588435, 'team': 0.0008987799369959946, 'successful': 0.005351604658588435, 'continued': 0.00041264812512881995, '99': 0.005351604658588435, '93': 0.005351604658588435, 'Future': 0.005351604658588435, 'Africa': 0.005351604658588435, 'named': 0.005351604658588435, \"'Bushfire\": 0.005351604658588435, \"Bash'\": 0.005351604658588435, 'Despite': 0.005351604658588435, 'century,': 0.004691650966051783, 'failed': 0.0015863707120463534, 'win': 0.0017891285017966184, 'Bangladesh,': 0.005351604658588435, 'losing': 0.005351604658588435, '5': 0.005351604658588435, 'wickets': 0.003482806226574248, '81st': 0.005351604658588435, 'first-class': 0.006910338288121082, 'cricket,': 0.005351604658588435, 'equalling': 0.005351604658588435, 'Sunil': 0.005351604658588435, \"Gavaskar's\": 0.005351604658588435, 'hundreds': 0.005351604658588435, 'However,': 0.005351604658588435, 'six': 0.005351604658588435, 'innings,': 0.005351604658588435, 'total': 0.005351604658588435, '95': 0.005351604658588435, 'Association': 0.004142620335512381, 'Bengal': 0.005351604658588435, 'Mumbai': 0.005351604658588435, 'organised': 0.0012210317445373994, 'events': 0.005351604658588435, 'mark': 0.005351604658588435, 'retirement': 0.005351604658588435, 'sport': 0.005351604658588435, '[better': 0.005351604658588435, 'source': 0.005351604658588435, 'Ajit': 0.005351604658588435, 'experience': 0.005351604658588435, \"Bombay's\": 0.005351604658588435, 'Kanga': 0.005351604658588435, 'League': 0.005351604658588435, 'Though': 0.005351604658588435, '141': 0.005351604658588435, 'out,': 0.005351604658588435, 'Indies': 0.005351604658588435, 'rain-affected': 0.005351604658588435, 'D/L': 0.005351604658588435, 'method': 0.005351604658588435, '583': 0.005351604658588435, '6777,': 0.005351604658588435, 'eighth-highest': 0.005351604658588435, 'run-scorer': 0.005351604658588435, 'overall': 0.005351604658588435, 'Denness': 0.005351604658588435, 'found': 0.005351604658588435, 'guilty': 0.005351604658588435, 'ball': 0.005351604658588435, 'tampering': 0.005351604658588435, 'charges': 0.005351604658588435, 'handed': 0.005351604658588435, 'ban': 0.005351604658588435, '160': 0.005351604658588435, 'Test,': 0.002951599620716635, '42nd': 0.005351604658588435, '[citation': 0.005351604658588435, 'convinced': 0.005351604658588435, 'Azharuddin': 0.01070320931717687, 'bat': 0.005351604658588435, 'subsequently': 0.005351604658588435, 'unleashed': 0.005351604658588435, '24': 0.005351604658588435, '105': 0.005351604658588435, '16': 0.005351604658588435, '143': 0.005351604658588435, 'rise': 0.005351604658588435, '1996': 0.005351604658588435, 'centuries': 0.0002281302570151874, 'unbeaten': 0.005351604658588435, '194': 0.005351604658588435, 'Multan': 0.005351604658588435, 'following': 0.005351604658588435, 'His': 0.005351604658588435, 'haul': 0.005351604658588435, 'helped': 0.005351604658588435, '135': 0.005351604658588435, 'Navjot': 0.005351604658588435, 'Singh': 0.005351604658588435, 'Sidhu': 0.005351604658588435, 'set': 0.005351604658588435, 'wicket': 0.005351604658588435, 'exhibition': 0.005351604658588435, 'former': 0.005351604658588435, 'Aussie': 0.005351604658588435, 'Shane': 0.005351604658588435, 'Warne': 0.005351604658588435, '1–0': 0.005351604658588435, 'Then,': 0.005351604658588435, 'hitherto': 0.005351604658588435, 'unprecedented': 0.005351604658588435, 'sequence,': 0.005351604658588435, '0,': 0.004142620335512381, '0': 0.005351604658588435, 'next': 0.005351604658588435, 'four': 0.005351604658588435, 'returned': 0.005351604658588435, 'form': 0.005351604658588435, 'last': 0.005351604658588435, '41': 0.005351604658588435, '86,': 0.005351604658588435, 'adjudged': 0.005351604658588435, 'Man': 0.005351604658588435, 'CAC': 0.005351604658588435, 'formed': 0.005351604658588435, 'BCCI': 0.005351604658588435, 'appoint': 0.005351604658588435, 'head': 0.005351604658588435, 'coach': 0.005351604658588435}\n"
          ]
        }
      ]
    },
    {
      "cell_type": "code",
      "source": [
        "def get_top_n(dict_elem, n):\n",
        "    result = dict(sorted(dict_elem.items(), key = itemgetter(1), reverse = True)[:n]) \n",
        "    return result\n",
        "\n",
        "dic=get_top_n(tf_idf_score, 75)\n"
      ],
      "metadata": {
        "id": "AIpP-Oej0uth"
      },
      "execution_count": 14,
      "outputs": []
    },
    {
      "cell_type": "code",
      "source": [
        "import nltk\n",
        "nltk.download('averaged_perceptron_tagger')"
      ],
      "metadata": {
        "colab": {
          "base_uri": "https://localhost:8080/"
        },
        "id": "PA5UVsXg2iTY",
        "outputId": "768bd040-ba18-4492-d0ba-46dfc70fb61b"
      },
      "execution_count": 15,
      "outputs": [
        {
          "output_type": "stream",
          "name": "stdout",
          "text": [
            "[nltk_data] Downloading package averaged_perceptron_tagger to\n",
            "[nltk_data]     /root/nltk_data...\n",
            "[nltk_data]   Unzipping taggers/averaged_perceptron_tagger.zip.\n"
          ]
        },
        {
          "output_type": "execute_result",
          "data": {
            "text/plain": [
              "True"
            ]
          },
          "metadata": {},
          "execution_count": 15
        }
      ]
    },
    {
      "cell_type": "code",
      "source": [
        "from textblob import TextBlob\n",
        "file1 = open('keyw.txt', 'w')\n",
        "for v in dic:\n",
        "    if len(v) > 3:\n",
        "        wiki = TextBlob(str(v))\n",
        "        for e,val in wiki.tags:\n",
        "            if(val == 'NN' or val == 'NNS' or val == 'NNPS' or val == 'NNP'):\n",
        "                search_keywords.append(e)\n",
        "    \n",
        "for s in search_keywords:\n",
        "    file1.writelines(s+\"\\n\")\n",
        "file1.close()\n",
        " \n",
        "#print(search_keywords)\n",
        "file1 = open('qns.txt', 'w')\n",
        "for sentence in summary_sentences:\n",
        "        vz=sum(1 for word in search_keywords if word in sentence)\n",
        "        if  (int(vz))>=2 and(int(vz))<=4:\n",
        "            file1.write(sentence + \"\\n\")\n",
        "file1.close()"
      ],
      "metadata": {
        "id": "FVyNRWvj01lg"
      },
      "execution_count": 16,
      "outputs": []
    },
    {
      "cell_type": "code",
      "source": [
        "file1 = open(\"qns.txt\",\"r+\") \n",
        "doc=file1.read()\n",
        "con=doc\n",
        "file1.close()\n",
        "\n",
        "file1 = open(\"keyw.txt\",\"r+\") \n",
        "keys=file1.read()\n",
        "file1.close()\n",
        "print(keys.split())\n",
        "print(\"\\n\")\n",
        "print(con)"
      ],
      "metadata": {
        "colab": {
          "base_uri": "https://localhost:8080/"
        },
        "id": "omL9qTQ120y3",
        "outputId": "7da7b617-4e2b-4455-a9b7-6341e31d0fa0"
      },
      "execution_count": 22,
      "outputs": [
        {
          "output_type": "stream",
          "name": "stdout",
          "text": [
            "['Tendulkar', 'Cricket', 'Azharuddin', 'World', 'Tendulkar', 'Australia', 'Pakistan', 'Cup', 'India', 'first-class', 'Series', 'West', 'cricket', 'ODIs', 'November', 'batsman', 'thousand', 'tournament', 'fifty', 'reach', 'Guyana', 'total', 'post', 'excess', 'time', 'October', 'debut', 'commentator', 'male', 'double-century', 'season', 'clarification', 'seasons']\n",
            "\n",
            "\n",
            "Tendulkar scored 326 (not out) in this innings and scored over a thousand runs in the tournament.\n",
            "Batting together, they scored 6920 runs for India at a partnership average of over fifty runs.\n",
            "Tendulkar played 664 international cricket matches in total, scoring 34,357 runs.\n",
            "It enabled India to post a score in excess of 300 runs for the first time in an ODI.\n",
            "He is the first male cricketer to score a double-century in one-day cricket.\n",
            "Sachin has scored more than 500 runs in IPL in two different seasons as a captain.\n",
            "In the 2002 series in the West Indies, Tendulkar started well, scoring 79 in the first Test.\n",
            "The Indian tail collapsed, and Australia won the match by three runs.\n",
            "In the two-Test Series against South Africa, Tendulkar made 7 and 100 in the first Test.\n",
            "Tendulkar was also one half of the most prolific Test cricket partnership to date, alongside Rahul Dravid.\n",
            "In the year of 2000 a huge match fixing scandal happened in Indian cricket.\n",
            "Tendulkar scored his 39th ODI hundred on 6 February 2006 in a match against Pakistan.\n",
            "Tendulkar's two tenures as captain of the Indian cricket team were not very successful.\n",
            "Despite Tendulkar's century, India failed to win the match against Bangladesh, losing by 5 wickets.\n",
            "This was also his 81st hundred in first-class cricket, equalling Sunil Gavaskar's Indian record for most first-class hundreds.\n",
            "[better source needed] Ajit Tendulkar also had experience of playing cricket in Bombay's Kanga League.\n",
            "Denness found Sachin Tendulkar guilty of ball tampering charges and handed him a one Test match ban.\n",
            "Tendulkar made 160 in the first Test, his 42nd Test century, and India won.\n",
            "[citation needed] Tendulkar convinced Azharuddin to bat and Azharuddin subsequently unleashed 24 runs off one over.\n",
            "Tendulkar's rise continued when he was the leading run scorer at the 1996 World Cup, scoring two centuries.\n",
            "Tendulkar scored an unbeaten 194 against Pakistan at Multan in the following series.\n",
            "Tendulkar scored 135 runs.\n",
            "Tendulkar and Navjot Singh Sidhu both made centuries to set a then record partnership for the second wicket.\n",
            "Tendulkar organised exhibition cricket matches in partnership with former Aussie cricketer Shane Warne.\n",
            "CAC was formed by BCCI to appoint a head coach for Indian cricket team.\n",
            "\n"
          ]
        }
      ]
    },
    {
      "cell_type": "code",
      "source": [
        ""
      ],
      "metadata": {
        "id": "9np0gtik3mkn"
      },
      "execution_count": null,
      "outputs": []
    },
    {
      "cell_type": "code",
      "source": [
        ""
      ],
      "metadata": {
        "id": "xjWf6aMp0gMY"
      },
      "execution_count": null,
      "outputs": []
    }
  ]
}